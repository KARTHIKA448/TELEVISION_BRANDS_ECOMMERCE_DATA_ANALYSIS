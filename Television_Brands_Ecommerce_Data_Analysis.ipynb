{
 "cells": [
  {
   "cell_type": "markdown",
   "id": "a16196e0",
   "metadata": {},
   "source": [
    "# IMPORTING LIBRARIES"
   ]
  },
  {
   "cell_type": "code",
   "execution_count": 33,
   "id": "cc5ffea9",
   "metadata": {},
   "outputs": [],
   "source": [
    "import warnings\n",
    "warnings.filterwarnings(\"ignore\")"
   ]
  },
  {
   "cell_type": "code",
   "execution_count": 34,
   "id": "05f22344",
   "metadata": {},
   "outputs": [],
   "source": [
    "import pandas as pd\n",
    "import numpy as np"
   ]
  },
  {
   "cell_type": "code",
   "execution_count": 35,
   "id": "04c87f63",
   "metadata": {},
   "outputs": [],
   "source": [
    "import matplotlib.pyplot as plt\n",
    "import seaborn as sns"
   ]
  },
  {
   "cell_type": "markdown",
   "id": "e7aa0ca2",
   "metadata": {},
   "source": [
    "#  LOADING AND READING THE DATASET"
   ]
  },
  {
   "cell_type": "code",
   "execution_count": 36,
   "id": "06515e25",
   "metadata": {},
   "outputs": [
    {
     "data": {
      "text/html": [
       "<div>\n",
       "<style scoped>\n",
       "    .dataframe tbody tr th:only-of-type {\n",
       "        vertical-align: middle;\n",
       "    }\n",
       "\n",
       "    .dataframe tbody tr th {\n",
       "        vertical-align: top;\n",
       "    }\n",
       "\n",
       "    .dataframe thead th {\n",
       "        text-align: right;\n",
       "    }\n",
       "</style>\n",
       "<table border=\"1\" class=\"dataframe\">\n",
       "  <thead>\n",
       "    <tr style=\"text-align: right;\">\n",
       "      <th></th>\n",
       "      <th>Brand</th>\n",
       "      <th>Resolution</th>\n",
       "      <th>Size</th>\n",
       "      <th>Selling Price</th>\n",
       "      <th>Original Price</th>\n",
       "      <th>Operating System</th>\n",
       "      <th>Rating</th>\n",
       "    </tr>\n",
       "  </thead>\n",
       "  <tbody>\n",
       "    <tr>\n",
       "      <th>0</th>\n",
       "      <td>TOSHIBA</td>\n",
       "      <td>Ultra HD LED</td>\n",
       "      <td>55</td>\n",
       "      <td>37999</td>\n",
       "      <td>54990</td>\n",
       "      <td>VIDAA</td>\n",
       "      <td>4.3</td>\n",
       "    </tr>\n",
       "    <tr>\n",
       "      <th>1</th>\n",
       "      <td>TCL</td>\n",
       "      <td>QLED Ultra HD</td>\n",
       "      <td>55</td>\n",
       "      <td>52999</td>\n",
       "      <td>129990</td>\n",
       "      <td>Android</td>\n",
       "      <td>4.4</td>\n",
       "    </tr>\n",
       "    <tr>\n",
       "      <th>2</th>\n",
       "      <td>realme</td>\n",
       "      <td>HD LED</td>\n",
       "      <td>32</td>\n",
       "      <td>13999</td>\n",
       "      <td>17999</td>\n",
       "      <td>Android</td>\n",
       "      <td>4.3</td>\n",
       "    </tr>\n",
       "    <tr>\n",
       "      <th>3</th>\n",
       "      <td>Mi</td>\n",
       "      <td>HD LED</td>\n",
       "      <td>32</td>\n",
       "      <td>14999</td>\n",
       "      <td>19999</td>\n",
       "      <td>Android</td>\n",
       "      <td>4.4</td>\n",
       "    </tr>\n",
       "    <tr>\n",
       "      <th>4</th>\n",
       "      <td>realme</td>\n",
       "      <td>HD LED</td>\n",
       "      <td>32</td>\n",
       "      <td>12999</td>\n",
       "      <td>21999</td>\n",
       "      <td>Android</td>\n",
       "      <td>4.3</td>\n",
       "    </tr>\n",
       "    <tr>\n",
       "      <th>...</th>\n",
       "      <td>...</td>\n",
       "      <td>...</td>\n",
       "      <td>...</td>\n",
       "      <td>...</td>\n",
       "      <td>...</td>\n",
       "      <td>...</td>\n",
       "      <td>...</td>\n",
       "    </tr>\n",
       "    <tr>\n",
       "      <th>907</th>\n",
       "      <td>SONY</td>\n",
       "      <td>Full HD LED</td>\n",
       "      <td>43</td>\n",
       "      <td>44999</td>\n",
       "      <td>57900</td>\n",
       "      <td>Linux</td>\n",
       "      <td>4.4</td>\n",
       "    </tr>\n",
       "    <tr>\n",
       "      <th>908</th>\n",
       "      <td>SONY</td>\n",
       "      <td>Full HD LED</td>\n",
       "      <td>40</td>\n",
       "      <td>41499</td>\n",
       "      <td>51900</td>\n",
       "      <td>Linux</td>\n",
       "      <td>4.6</td>\n",
       "    </tr>\n",
       "    <tr>\n",
       "      <th>909</th>\n",
       "      <td>SONY</td>\n",
       "      <td>Ultra HD LED</td>\n",
       "      <td>65</td>\n",
       "      <td>149990</td>\n",
       "      <td>184990</td>\n",
       "      <td>Linux</td>\n",
       "      <td>4.3</td>\n",
       "    </tr>\n",
       "    <tr>\n",
       "      <th>910</th>\n",
       "      <td>SONY</td>\n",
       "      <td>HD LED</td>\n",
       "      <td>32</td>\n",
       "      <td>32900</td>\n",
       "      <td>32900</td>\n",
       "      <td>Linux</td>\n",
       "      <td>4.4</td>\n",
       "    </tr>\n",
       "    <tr>\n",
       "      <th>911</th>\n",
       "      <td>SONY</td>\n",
       "      <td>Full HD LED</td>\n",
       "      <td>43</td>\n",
       "      <td>56900</td>\n",
       "      <td>56900</td>\n",
       "      <td>Linux</td>\n",
       "      <td>4.6</td>\n",
       "    </tr>\n",
       "  </tbody>\n",
       "</table>\n",
       "<p>912 rows × 7 columns</p>\n",
       "</div>"
      ],
      "text/plain": [
       "       Brand     Resolution  Size   Selling Price  Original Price  \\\n",
       "0    TOSHIBA   Ultra HD LED     55          37999           54990   \n",
       "1       TCL   QLED Ultra HD     55          52999          129990   \n",
       "2    realme          HD LED     32          13999           17999   \n",
       "3        Mi          HD LED     32          14999           19999   \n",
       "4    realme          HD LED     32          12999           21999   \n",
       "..       ...            ...    ...            ...             ...   \n",
       "907    SONY     Full HD LED     43          44999           57900   \n",
       "908    SONY     Full HD LED     40          41499           51900   \n",
       "909    SONY    Ultra HD LED     65         149990          184990   \n",
       "910    SONY          HD LED     32          32900           32900   \n",
       "911    SONY     Full HD LED     43          56900           56900   \n",
       "\n",
       "    Operating System  Rating  \n",
       "0              VIDAA     4.3  \n",
       "1            Android     4.4  \n",
       "2            Android     4.3  \n",
       "3            Android     4.4  \n",
       "4            Android     4.3  \n",
       "..               ...     ...  \n",
       "907            Linux     4.4  \n",
       "908            Linux     4.6  \n",
       "909            Linux     4.3  \n",
       "910            Linux     4.4  \n",
       "911            Linux     4.6  \n",
       "\n",
       "[912 rows x 7 columns]"
      ]
     },
     "execution_count": 36,
     "metadata": {},
     "output_type": "execute_result"
    }
   ],
   "source": [
    "df = pd.read_csv(\"TV_Final.xls\")\n",
    "df"
   ]
  },
  {
   "cell_type": "code",
   "execution_count": 37,
   "id": "7c7ff31b",
   "metadata": {},
   "outputs": [],
   "source": [
    "dataset = df.copy()"
   ]
  },
  {
   "cell_type": "markdown",
   "id": "781987ef",
   "metadata": {},
   "source": [
    "# ABOUT THE DATASET"
   ]
  },
  {
   "cell_type": "markdown",
   "id": "f9c00fd7",
   "metadata": {},
   "source": [
    "The dataset provides information about various television models. "
   ]
  },
  {
   "cell_type": "code",
   "execution_count": 38,
   "id": "0d803811",
   "metadata": {},
   "outputs": [
    {
     "name": "stdout",
     "output_type": "stream",
     "text": [
      "no of rows and columns:  (912, 7)\n"
     ]
    }
   ],
   "source": [
    "print(\"no of rows and columns: \",df.shape)"
   ]
  },
  {
   "cell_type": "code",
   "execution_count": 39,
   "id": "7cae4950",
   "metadata": {},
   "outputs": [
    {
     "name": "stdout",
     "output_type": "stream",
     "text": [
      "number of elements:  6384\n"
     ]
    }
   ],
   "source": [
    "print(\"number of elements: \",df.size)"
   ]
  },
  {
   "cell_type": "code",
   "execution_count": 40,
   "id": "220291ab",
   "metadata": {},
   "outputs": [
    {
     "data": {
      "text/plain": [
       "Index(['Brand', 'Resolution', 'Size ', 'Selling Price', 'Original Price',\n",
       "       'Operating System', 'Rating'],\n",
       "      dtype='object')"
      ]
     },
     "execution_count": 40,
     "metadata": {},
     "output_type": "execute_result"
    }
   ],
   "source": [
    "df.columns"
   ]
  },
  {
   "cell_type": "markdown",
   "id": "3692945b",
   "metadata": {},
   "source": [
    "EACH FEATURE TELLS ABOUT:\n",
    "  -  Brand : The brand name of the television manufacturer (e.g., TOSHIBA, TCL, realme, Mi, SONY).\n",
    "  -  Resolution : The display resolution of the television (e.g., Ultra HD, QLED Ultra HD, HD).\n",
    "  -  Size : The size of the television screen in inches.\n",
    "  -  Selling Price : The current selling price of the television model.\n",
    "  -  Original Price : The original or list price of the television model before any discounts or promotions.\n",
    "  -  Operating System : The operating system used by the television (e.g., VIDAA, Android, Linux).\n",
    "  -  Rating : The rating of the television model, presumably based on user reviews or some other metric."
   ]
  },
  {
   "cell_type": "code",
   "execution_count": 41,
   "id": "3d30d2ba",
   "metadata": {},
   "outputs": [
    {
     "data": {
      "text/plain": [
       "Brand                object\n",
       "Resolution           object\n",
       "Size                  int64\n",
       "Selling Price         int64\n",
       "Original Price        int64\n",
       "Operating System     object\n",
       "Rating              float64\n",
       "dtype: object"
      ]
     },
     "execution_count": 41,
     "metadata": {},
     "output_type": "execute_result"
    }
   ],
   "source": [
    "df.dtypes"
   ]
  },
  {
   "cell_type": "markdown",
   "id": "2e80f180",
   "metadata": {},
   "source": [
    "# MISSING VALUES AND DUPLICATES"
   ]
  },
  {
   "cell_type": "code",
   "execution_count": 42,
   "id": "811ea541",
   "metadata": {},
   "outputs": [
    {
     "data": {
      "text/plain": [
       "Brand                 0\n",
       "Resolution            0\n",
       "Size                  0\n",
       "Selling Price         0\n",
       "Original Price        0\n",
       "Operating System     11\n",
       "Rating              220\n",
       "dtype: int64"
      ]
     },
     "execution_count": 42,
     "metadata": {},
     "output_type": "execute_result"
    }
   ],
   "source": [
    "df.isna().sum()"
   ]
  },
  {
   "cell_type": "markdown",
   "id": "a22a165a",
   "metadata": {},
   "source": [
    "- misssing values present in the Operating system (11) and Rating(220)"
   ]
  },
  {
   "cell_type": "code",
   "execution_count": 43,
   "id": "33d2b351",
   "metadata": {},
   "outputs": [
    {
     "data": {
      "text/plain": [
       "<Axes: >"
      ]
     },
     "execution_count": 43,
     "metadata": {},
     "output_type": "execute_result"
    },
    {
     "data": {
      "image/png": "[encoded data removed]",
      "text/plain": [
       "<Figure size 640x480 with 2 Axes>"
      ]
     },
     "metadata": {},
     "output_type": "display_data"
    }
   ],
   "source": [
    "sns.heatmap(df.isna())"
   ]
  },
  {
   "cell_type": "code",
   "execution_count": 44,
   "id": "55ebd208",
   "metadata": {},
   "outputs": [],
   "source": [
    "df['Operating System'].fillna(df['Operating System'].mode()[0], inplace=True)\n"
   ]
  },
  {
   "cell_type": "code",
   "execution_count": 45,
   "id": "958c4474",
   "metadata": {},
   "outputs": [],
   "source": [
    "df['Rating'].fillna(df['Rating'].mean(), inplace=True)"
   ]
  },
  {
   "cell_type": "code",
   "execution_count": 46,
   "id": "969e4429",
   "metadata": {},
   "outputs": [
    {
     "data": {
      "text/plain": [
       "Brand               0\n",
       "Resolution          0\n",
       "Size                0\n",
       "Selling Price       0\n",
       "Original Price      0\n",
       "Operating System    0\n",
       "Rating              0\n",
       "dtype: int64"
      ]
     },
     "execution_count": 46,
     "metadata": {},
     "output_type": "execute_result"
    }
   ],
   "source": [
    "df.isna().sum()"
   ]
  },
  {
   "cell_type": "markdown",
   "id": "fd3422eb",
   "metadata": {},
   "source": [
    "- now all missing values are replaced by mean and mode"
   ]
  },
  {
   "cell_type": "code",
   "execution_count": 47,
   "id": "5eeab16f",
   "metadata": {},
   "outputs": [
    {
     "data": {
      "text/plain": [
       "True"
      ]
     },
     "execution_count": 47,
     "metadata": {},
     "output_type": "execute_result"
    }
   ],
   "source": [
    "df.duplicated().any()"
   ]
  },
  {
   "cell_type": "markdown",
   "id": "31d1023f",
   "metadata": {},
   "source": [
    "- True represents there are same names for brand tv etc"
   ]
  },
  {
   "cell_type": "markdown",
   "id": "84e897ee",
   "metadata": {},
   "source": [
    "# EXPLORATORY DATA ANALYSIS"
   ]
  },
  {
   "cell_type": "markdown",
   "id": "2dc73f06",
   "metadata": {},
   "source": [
    "## DESCRIPTIVE ANALYSIS\n"
   ]
  },
  {
   "cell_type": "code",
   "execution_count": 48,
   "id": "dc800e52",
   "metadata": {
    "scrolled": true
   },
   "outputs": [
    {
     "data": {
      "text/html": [
       "<div>\n",
       "<style scoped>\n",
       "    .dataframe tbody tr th:only-of-type {\n",
       "        vertical-align: middle;\n",
       "    }\n",
       "\n",
       "    .dataframe tbody tr th {\n",
       "        vertical-align: top;\n",
       "    }\n",
       "\n",
       "    .dataframe thead th {\n",
       "        text-align: right;\n",
       "    }\n",
       "</style>\n",
       "<table border=\"1\" class=\"dataframe\">\n",
       "  <thead>\n",
       "    <tr style=\"text-align: right;\">\n",
       "      <th></th>\n",
       "      <th>count</th>\n",
       "      <th>unique</th>\n",
       "      <th>top</th>\n",
       "      <th>freq</th>\n",
       "      <th>mean</th>\n",
       "      <th>std</th>\n",
       "      <th>min</th>\n",
       "      <th>25%</th>\n",
       "      <th>50%</th>\n",
       "      <th>75%</th>\n",
       "      <th>max</th>\n",
       "    </tr>\n",
       "  </thead>\n",
       "  <tbody>\n",
       "    <tr>\n",
       "      <th>Brand</th>\n",
       "      <td>912</td>\n",
       "      <td>59</td>\n",
       "      <td>SAMSUNG</td>\n",
       "      <td>140</td>\n",
       "      <td>NaN</td>\n",
       "      <td>NaN</td>\n",
       "      <td>NaN</td>\n",
       "      <td>NaN</td>\n",
       "      <td>NaN</td>\n",
       "      <td>NaN</td>\n",
       "      <td>NaN</td>\n",
       "    </tr>\n",
       "    <tr>\n",
       "      <th>Resolution</th>\n",
       "      <td>912</td>\n",
       "      <td>5</td>\n",
       "      <td>Ultra HD LED</td>\n",
       "      <td>399</td>\n",
       "      <td>NaN</td>\n",
       "      <td>NaN</td>\n",
       "      <td>NaN</td>\n",
       "      <td>NaN</td>\n",
       "      <td>NaN</td>\n",
       "      <td>NaN</td>\n",
       "      <td>NaN</td>\n",
       "    </tr>\n",
       "    <tr>\n",
       "      <th>Size</th>\n",
       "      <td>912.0</td>\n",
       "      <td>NaN</td>\n",
       "      <td>NaN</td>\n",
       "      <td>NaN</td>\n",
       "      <td>45.942982</td>\n",
       "      <td>12.316492</td>\n",
       "      <td>17.0</td>\n",
       "      <td>32.0</td>\n",
       "      <td>43.0</td>\n",
       "      <td>55.0</td>\n",
       "      <td>85.0</td>\n",
       "    </tr>\n",
       "    <tr>\n",
       "      <th>Selling Price</th>\n",
       "      <td>912.0</td>\n",
       "      <td>NaN</td>\n",
       "      <td>NaN</td>\n",
       "      <td>NaN</td>\n",
       "      <td>59358.60636</td>\n",
       "      <td>65866.677856</td>\n",
       "      <td>4849.0</td>\n",
       "      <td>19797.5</td>\n",
       "      <td>36990.0</td>\n",
       "      <td>67064.25</td>\n",
       "      <td>499990.0</td>\n",
       "    </tr>\n",
       "    <tr>\n",
       "      <th>Original Price</th>\n",
       "      <td>912.0</td>\n",
       "      <td>NaN</td>\n",
       "      <td>NaN</td>\n",
       "      <td>NaN</td>\n",
       "      <td>81975.213816</td>\n",
       "      <td>84823.568826</td>\n",
       "      <td>6999.0</td>\n",
       "      <td>28990.0</td>\n",
       "      <td>52900.0</td>\n",
       "      <td>99900.0</td>\n",
       "      <td>549990.0</td>\n",
       "    </tr>\n",
       "    <tr>\n",
       "      <th>Operating System</th>\n",
       "      <td>912</td>\n",
       "      <td>7</td>\n",
       "      <td>Android</td>\n",
       "      <td>485</td>\n",
       "      <td>NaN</td>\n",
       "      <td>NaN</td>\n",
       "      <td>NaN</td>\n",
       "      <td>NaN</td>\n",
       "      <td>NaN</td>\n",
       "      <td>NaN</td>\n",
       "      <td>NaN</td>\n",
       "    </tr>\n",
       "    <tr>\n",
       "      <th>Rating</th>\n",
       "      <td>912.0</td>\n",
       "      <td>NaN</td>\n",
       "      <td>NaN</td>\n",
       "      <td>NaN</td>\n",
       "      <td>4.234104</td>\n",
       "      <td>0.319363</td>\n",
       "      <td>2.0</td>\n",
       "      <td>4.2</td>\n",
       "      <td>4.234104</td>\n",
       "      <td>4.4</td>\n",
       "      <td>5.0</td>\n",
       "    </tr>\n",
       "  </tbody>\n",
       "</table>\n",
       "</div>"
      ],
      "text/plain": [
       "                  count unique           top freq          mean           std  \\\n",
       "Brand               912     59       SAMSUNG  140           NaN           NaN   \n",
       "Resolution          912      5  Ultra HD LED  399           NaN           NaN   \n",
       "Size              912.0    NaN           NaN  NaN     45.942982     12.316492   \n",
       "Selling Price     912.0    NaN           NaN  NaN   59358.60636  65866.677856   \n",
       "Original Price    912.0    NaN           NaN  NaN  81975.213816  84823.568826   \n",
       "Operating System    912      7       Android  485           NaN           NaN   \n",
       "Rating            912.0    NaN           NaN  NaN      4.234104      0.319363   \n",
       "\n",
       "                     min      25%       50%       75%       max  \n",
       "Brand                NaN      NaN       NaN       NaN       NaN  \n",
       "Resolution           NaN      NaN       NaN       NaN       NaN  \n",
       "Size                17.0     32.0      43.0      55.0      85.0  \n",
       "Selling Price     4849.0  19797.5   36990.0  67064.25  499990.0  \n",
       "Original Price    6999.0  28990.0   52900.0   99900.0  549990.0  \n",
       "Operating System     NaN      NaN       NaN       NaN       NaN  \n",
       "Rating               2.0      4.2  4.234104       4.4       5.0  "
      ]
     },
     "execution_count": 48,
     "metadata": {},
     "output_type": "execute_result"
    }
   ],
   "source": [
    "df.describe(include=\"all\").T"
   ]
  },
  {
   "cell_type": "markdown",
   "id": "0ba91bbf",
   "metadata": {},
   "source": [
    "- now there is no missing values\n",
    "- there are `59` unique brands and `SAMSUNG` with most frequent brand(140 times) \n",
    "- there are `5` unique display resolutions and `Ultra HD LED`(399) is the most common \n",
    "- The sizes range from a minimum of 17 inches to a maximum of 85 inches, with an average size of approximately 45.94 inches.\n",
    "- Selling prices vary widely, with a minimum of 4,849 and a maximum of 499,990.The mean selling price is 59,358.61.\n",
    "- Original prices also exhibit a considerable range, from 6,999 to 549,990.\n",
    "- There are 7 unique operating systems, with `Android`(485 times) being the most common .\n",
    "- Ratings range from a minimum of 2 to a maximum of 5, with an average rating of 4.23."
   ]
  },
  {
   "cell_type": "markdown",
   "id": "471d5673",
   "metadata": {},
   "source": [
    "## UNIVARIABLE ANALYSIS"
   ]
  },
  {
   "cell_type": "markdown",
   "id": "544aca55",
   "metadata": {},
   "source": [
    "## Demand for different types of televisions and Number of Players in the market"
   ]
  },
  {
   "cell_type": "code",
   "execution_count": 49,
   "id": "437825a0",
   "metadata": {},
   "outputs": [
    {
     "name": "stdout",
     "output_type": "stream",
     "text": [
      "   Different Types Of Resolutions   :\n",
      "--------------------------------\n",
      "Ultra HD LED     399\n",
      "HD LED           229\n",
      "Full HD LED      220\n",
      "QLED Ultra HD     60\n",
      "HD Plasma          4\n",
      "Name: Resolution, dtype: int64\n"
     ]
    }
   ],
   "source": [
    "print('   different types of resolutions   :'.title())\n",
    "print(\"--------------------------------\")\n",
    "print(df['Resolution'].value_counts())"
   ]
  },
  {
   "cell_type": "code",
   "execution_count": 50,
   "id": "a429ef40",
   "metadata": {},
   "outputs": [
    {
     "data": {
      "text/plain": [
       "Text(0.5, 1.0, 'RESOLUTION ANALYSIS')"
      ]
     },
     "execution_count": 50,
     "metadata": {},
     "output_type": "execute_result"
    },
    {
     "data": {
      "image/png": "[encoded data removed]",
      "text/plain": [
       "<Figure size 640x480 with 1 Axes>"
      ]
     },
     "metadata": {},
     "output_type": "display_data"
    }
   ],
   "source": [
    "sns.countplot(data=df,x=\"Resolution\")\n",
    "plt.title(\"RESOLUTION ANALYSIS\")"
   ]
  },
  {
   "cell_type": "markdown",
   "id": "44d62ddb",
   "metadata": {},
   "source": [
    "- There is a high demand for televisions with `Ultra HD` resolution, indicating a preference for higher picture quality."
   ]
  },
  {
   "cell_type": "code",
   "execution_count": 51,
   "id": "83b7ca2d",
   "metadata": {
    "scrolled": false
   },
   "outputs": [
    {
     "name": "stdout",
     "output_type": "stream",
     "text": [
      "Different Types Of Television Brands : \n",
      "--------------------------------\n",
      "SAMSUNG             140\n",
      "LG                  122\n",
      "SONY                 62\n",
      "TCL                  44\n",
      "Panasonic            30\n",
      "Micromax             25\n",
      "Vu                   23\n",
      "Lloyd                22\n",
      "Mi                   19\n",
      "iFFALCON by TCL      19\n",
      "Thomson              18\n",
      "Haier                18\n",
      "Sansui               18\n",
      "PHILIPS              17\n",
      "Blaupunkt            15\n",
      "KODAK                15\n",
      "MOTOROLA             15\n",
      "IMPEX                13\n",
      "TOSHIBA              13\n",
      "Croma                12\n",
      "Candes               12\n",
      "Onida                12\n",
      "Power Guard          11\n",
      "Nokia                11\n",
      "T-Series             11\n",
      "Hisense              10\n",
      "CloudWalker           9\n",
      "OnePlus               9\n",
      "RGL                   9\n",
      "Acer                  9\n",
      "Coocaa                9\n",
      "AISEN                 8\n",
      "MarQ by Flipkart      8\n",
      "Sharp                 8\n",
      "Onix                  8\n",
      "G-TEN                 8\n",
      "realme                7\n",
      "Adsun                 7\n",
      "Intex                 7\n",
      "Samsung               6\n",
      "JVC                   6\n",
      "Dyanora               6\n",
      "HUIDI                 6\n",
      "Akai                  6\n",
      "LumX                  6\n",
      "Weston                5\n",
      "Compaq                5\n",
      "VG                    4\n",
      "MURPHY                4\n",
      "BPL                   4\n",
      "Dektron               4\n",
      "KRISONS               3\n",
      "DETEL                 3\n",
      "Oxygen                3\n",
      "Infinix               3\n",
      "Sanyo                 2\n",
      "Sun King              1\n",
      "Skyworth              1\n",
      "Maser                 1\n",
      "Name: Brand, dtype: int64\n"
     ]
    }
   ],
   "source": [
    "print('different types of television brands : '.title())\n",
    "print(\"--------------------------------\")\n",
    "print(df['Brand'].value_counts())"
   ]
  },
  {
   "cell_type": "markdown",
   "id": "5465378c",
   "metadata": {},
   "source": [
    "## Which are the top 5 brands for television?\n"
   ]
  },
  {
   "cell_type": "code",
   "execution_count": 52,
   "id": "81bdc061",
   "metadata": {},
   "outputs": [
    {
     "data": {
      "text/plain": [
       "SAMSUNG      140\n",
       "LG           122\n",
       "SONY          62\n",
       "TCL           44\n",
       "Panasonic     30\n",
       "Name: Brand, dtype: int64"
      ]
     },
     "execution_count": 52,
     "metadata": {},
     "output_type": "execute_result"
    }
   ],
   "source": [
    "top_brands = df['Brand'].value_counts(ascending=False).head(5)\n",
    "top_brands\n"
   ]
  },
  {
   "cell_type": "code",
   "execution_count": 53,
   "id": "64fd7642",
   "metadata": {},
   "outputs": [
    {
     "data": {
      "image/png": "[encoded data removed]",
      "text/plain": [
       "<Figure size 640x480 with 1 Axes>"
      ]
     },
     "metadata": {},
     "output_type": "display_data"
    }
   ],
   "source": [
    "top_brands.plot(kind='bar', color='skyblue')\n",
    "plt.title('Top 5 Television Brands')\n",
    "plt.xlabel('Brand')\n",
    "plt.ylabel('Count')\n",
    "plt.xticks(rotation=45, ha='right')\n",
    "plt.show()"
   ]
  },
  {
   "cell_type": "markdown",
   "id": "e5ba628b",
   "metadata": {},
   "source": [
    "- `SAMSUNG` and `LG` emerge as the leading brands, possibly indicating a high level of consumer trust and market influence."
   ]
  },
  {
   "cell_type": "markdown",
   "id": "ee646540",
   "metadata": {},
   "source": [
    "## Which brand has the highest number of products i.e. television ?"
   ]
  },
  {
   "cell_type": "code",
   "execution_count": 54,
   "id": "45074763",
   "metadata": {},
   "outputs": [
    {
     "name": "stdout",
     "output_type": "stream",
     "text": [
      "Brand with the Highest Number of Products:\n",
      "SAMSUNG\n"
     ]
    }
   ],
   "source": [
    "brand_with_most_products = df['Brand'].value_counts().idxmax()\n",
    "print(\"Brand with the Highest Number of Products:\")\n",
    "print(brand_with_most_products)\n"
   ]
  },
  {
   "cell_type": "markdown",
   "id": "53898c44",
   "metadata": {},
   "source": [
    "## Are televisions with higher ratings more expensive?"
   ]
  },
  {
   "cell_type": "code",
   "execution_count": 55,
   "id": "31799dc7",
   "metadata": {},
   "outputs": [],
   "source": [
    "ratings_vs_prices = df[['Rating', 'Selling Price']]"
   ]
  },
  {
   "cell_type": "code",
   "execution_count": 56,
   "id": "91f71b91",
   "metadata": {},
   "outputs": [
    {
     "data": {
      "text/plain": [
       "Rating    Selling Price\n",
       "4.100000  15999            6\n",
       "4.400000  32999            5\n",
       "4.100000  9999             5\n",
       "4.300000  39999            5\n",
       "          25999            5\n",
       "          34999            5\n",
       "4.234104  15990            4\n",
       "          105990           3\n",
       "4.300000  44999            3\n",
       "4.400000  24999            3\n",
       "dtype: int64"
      ]
     },
     "execution_count": 56,
     "metadata": {},
     "output_type": "execute_result"
    }
   ],
   "source": [
    "ratings_vs_prices.value_counts(ascending=False).head(10)"
   ]
  },
  {
   "cell_type": "code",
   "execution_count": 57,
   "id": "99234b66",
   "metadata": {},
   "outputs": [
    {
     "data": {
      "image/png": "[encoded data removed]",
      "text/plain": [
       "<Figure size 640x480 with 1 Axes>"
      ]
     },
     "metadata": {},
     "output_type": "display_data"
    }
   ],
   "source": [
    "sns.scatterplot(x='Rating', y='Selling Price', data=df)\n",
    "plt.title('Rating vs Selling Price')\n",
    "plt.show()"
   ]
  },
  {
   "cell_type": "markdown",
   "id": "4f2368c0",
   "metadata": {},
   "source": [
    "- there is no Relationship between ratings and selling prices"
   ]
  },
  {
   "cell_type": "markdown",
   "id": "b82f4a66",
   "metadata": {},
   "source": [
    "## Average Selling Price by Brand"
   ]
  },
  {
   "cell_type": "code",
   "execution_count": 58,
   "id": "17076175",
   "metadata": {},
   "outputs": [],
   "source": [
    "avg_selling_price_by_brand = df.groupby('Brand')['Selling Price'].mean()"
   ]
  },
  {
   "cell_type": "code",
   "execution_count": 59,
   "id": "e28fe362",
   "metadata": {},
   "outputs": [
    {
     "data": {
      "text/plain": [
       "Brand\n",
       "AISEN                35462.500000\n",
       "Acer                 31664.666667\n",
       "Adsun                15220.428571\n",
       "Akai                 52002.833333\n",
       "BPL                  34617.250000\n",
       "Blaupunkt            23712.333333\n",
       "Candes               13415.666667\n",
       "CloudWalker          32331.333333\n",
       "Compaq               45999.000000\n",
       "Coocaa               24442.444444\n",
       "Croma                22365.666667\n",
       "DETEL                18110.666667\n",
       "Dektron               6724.000000\n",
       "Dyanora              15515.666667\n",
       "G-TEN                16918.375000\n",
       "HUIDI                18165.666667\n",
       "Haier                36616.222222\n",
       "Hisense              89795.400000\n",
       "IMPEX                28819.384615\n",
       "Infinix              17165.666667\n",
       "Intex                27340.714286\n",
       "JVC                  32496.333333\n",
       "KODAK                23665.066667\n",
       "KRISONS               5865.666667\n",
       "LG                   96914.401639\n",
       "Lloyd                34161.818182\n",
       "LumX                 24858.333333\n",
       "MOTOROLA             38399.000000\n",
       "MURPHY               12817.250000\n",
       "MarQ by Flipkart     17749.000000\n",
       "Maser                 7499.000000\n",
       "Mi                   30787.052632\n",
       "Micromax             26869.560000\n",
       "Nokia                38862.636364\n",
       "OnePlus              47375.777778\n",
       "Onida                29707.166667\n",
       "Onix                 34216.250000\n",
       "Oxygen               40326.333333\n",
       "PHILIPS              34113.823529\n",
       "Panasonic            53493.966667\n",
       "Power Guard          30509.727273\n",
       "RGL                  11106.444444\n",
       "SAMSUNG             106409.228571\n",
       "SONY                 89342.838710\n",
       "Samsung             121630.000000\n",
       "Sansui               37671.944444\n",
       "Sanyo                45499.000000\n",
       "Sharp               149672.000000\n",
       "Skyworth              8659.000000\n",
       "Sun King             24999.000000\n",
       "T-Series             17179.181818\n",
       "TCL                  55798.318182\n",
       "TOSHIBA              38852.846154\n",
       "Thomson              25249.000000\n",
       "VG                   19492.250000\n",
       "Vu                   46649.869565\n",
       "Weston               43390.000000\n",
       "iFFALCON by TCL      54234.421053\n",
       "realme               24427.571429\n",
       "Name: Selling Price, dtype: float64"
      ]
     },
     "execution_count": 59,
     "metadata": {},
     "output_type": "execute_result"
    }
   ],
   "source": [
    "avg_selling_price_by_brand"
   ]
  },
  {
   "cell_type": "code",
   "execution_count": 60,
   "id": "dc06fb00",
   "metadata": {},
   "outputs": [],
   "source": [
    "top_10_brands = avg_selling_price_by_brand.sort_values(ascending=False).head(10)"
   ]
  },
  {
   "cell_type": "code",
   "execution_count": 61,
   "id": "b63c2611",
   "metadata": {},
   "outputs": [
    {
     "data": {
      "text/plain": [
       "Brand\n",
       "Sharp              149672.000000\n",
       "Samsung            121630.000000\n",
       "SAMSUNG            106409.228571\n",
       "LG                  96914.401639\n",
       "Hisense             89795.400000\n",
       "SONY                89342.838710\n",
       "TCL                 55798.318182\n",
       "iFFALCON by TCL     54234.421053\n",
       "Panasonic           53493.966667\n",
       "Akai                52002.833333\n",
       "Name: Selling Price, dtype: float64"
      ]
     },
     "execution_count": 61,
     "metadata": {},
     "output_type": "execute_result"
    }
   ],
   "source": [
    "top_10_brands"
   ]
  },
  {
   "cell_type": "code",
   "execution_count": 62,
   "id": "d2f6626f",
   "metadata": {},
   "outputs": [
    {
     "data": {
      "image/png": "[encoded data removed]",
      "text/plain": [
       "<Figure size 640x480 with 1 Axes>"
      ]
     },
     "metadata": {},
     "output_type": "display_data"
    }
   ],
   "source": [
    "top_10_brands.plot(kind='bar', color='skyblue')\n",
    "plt.title('Top 10 Television Brands')\n",
    "plt.xlabel('Brand')\n",
    "plt.ylabel('Count')\n",
    "plt.xticks(rotation=45, ha='right')\n",
    "plt.show()"
   ]
  },
  {
   "cell_type": "markdown",
   "id": "96941af1",
   "metadata": {},
   "source": [
    "- Sharp has the highest average selling price.Samsung, SAMSUNG, and LG are also among the brands with higher average selling prices, suggesting that these brands might have premium or high-end television models."
   ]
  },
  {
   "cell_type": "markdown",
   "id": "f032fa28",
   "metadata": {},
   "source": [
    "## Distribution of Operating Systems"
   ]
  },
  {
   "cell_type": "code",
   "execution_count": 66,
   "id": "bce59090",
   "metadata": {},
   "outputs": [
    {
     "data": {
      "text/plain": [
       "Android      485\n",
       "Tizen        145\n",
       "Linux        127\n",
       "WebOS        109\n",
       "HomeOS        28\n",
       "VIDAA         13\n",
       "FireTV OS      5\n",
       "Name: Operating System, dtype: int64"
      ]
     },
     "execution_count": 66,
     "metadata": {},
     "output_type": "execute_result"
    }
   ],
   "source": [
    "df[\"Operating System\"].value_counts(ascending=False)"
   ]
  },
  {
   "cell_type": "code",
   "execution_count": 65,
   "id": "6be806f3",
   "metadata": {},
   "outputs": [
    {
     "data": {
      "image/png": "[encoded data removed]",
      "text/plain": [
       "<Figure size 640x480 with 1 Axes>"
      ]
     },
     "metadata": {},
     "output_type": "display_data"
    }
   ],
   "source": [
    "sns.countplot(x='Operating System', data=df, palette='viridis')\n",
    "plt.title('Distribution of Operating Systems')\n",
    "plt.xlabel('Operating System')\n",
    "plt.ylabel('Count')\n",
    "plt.xticks(rotation=45, ha='right')\n",
    "plt.show()"
   ]
  },
  {
   "cell_type": "markdown",
   "id": "1db53182",
   "metadata": {},
   "source": [
    "- Android is the most prevalent operating system, appearing 485 times in the dataset. This indicates a significant market share and popularity among the analyzed televisions."
   ]
  },
  {
   "cell_type": "markdown",
   "id": "13f3f94f",
   "metadata": {},
   "source": [
    "# COORELATION ANALYSIS"
   ]
  },
  {
   "cell_type": "code",
   "execution_count": 63,
   "id": "77ef4810",
   "metadata": {},
   "outputs": [
    {
     "data": {
      "text/html": [
       "<div>\n",
       "<style scoped>\n",
       "    .dataframe tbody tr th:only-of-type {\n",
       "        vertical-align: middle;\n",
       "    }\n",
       "\n",
       "    .dataframe tbody tr th {\n",
       "        vertical-align: top;\n",
       "    }\n",
       "\n",
       "    .dataframe thead th {\n",
       "        text-align: right;\n",
       "    }\n",
       "</style>\n",
       "<table border=\"1\" class=\"dataframe\">\n",
       "  <thead>\n",
       "    <tr style=\"text-align: right;\">\n",
       "      <th></th>\n",
       "      <th>Size</th>\n",
       "      <th>Selling Price</th>\n",
       "      <th>Original Price</th>\n",
       "      <th>Rating</th>\n",
       "    </tr>\n",
       "  </thead>\n",
       "  <tbody>\n",
       "    <tr>\n",
       "      <th>Size</th>\n",
       "      <td>1.000000</td>\n",
       "      <td>0.662693</td>\n",
       "      <td>0.730084</td>\n",
       "      <td>0.184984</td>\n",
       "    </tr>\n",
       "    <tr>\n",
       "      <th>Selling Price</th>\n",
       "      <td>0.662693</td>\n",
       "      <td>1.000000</td>\n",
       "      <td>0.939933</td>\n",
       "      <td>0.123073</td>\n",
       "    </tr>\n",
       "    <tr>\n",
       "      <th>Original Price</th>\n",
       "      <td>0.730084</td>\n",
       "      <td>0.939933</td>\n",
       "      <td>1.000000</td>\n",
       "      <td>0.126132</td>\n",
       "    </tr>\n",
       "    <tr>\n",
       "      <th>Rating</th>\n",
       "      <td>0.184984</td>\n",
       "      <td>0.123073</td>\n",
       "      <td>0.126132</td>\n",
       "      <td>1.000000</td>\n",
       "    </tr>\n",
       "  </tbody>\n",
       "</table>\n",
       "</div>"
      ],
      "text/plain": [
       "                   Size   Selling Price  Original Price    Rating\n",
       "Size            1.000000       0.662693        0.730084  0.184984\n",
       "Selling Price   0.662693       1.000000        0.939933  0.123073\n",
       "Original Price  0.730084       0.939933        1.000000  0.126132\n",
       "Rating          0.184984       0.123073        0.126132  1.000000"
      ]
     },
     "execution_count": 63,
     "metadata": {},
     "output_type": "execute_result"
    }
   ],
   "source": [
    "df.corr()"
   ]
  },
  {
   "cell_type": "code",
   "execution_count": 64,
   "id": "0739ecc4",
   "metadata": {},
   "outputs": [
    {
     "data": {
      "text/plain": [
       "<Axes: >"
      ]
     },
     "execution_count": 64,
     "metadata": {},
     "output_type": "execute_result"
    },
    {
     "data": {
      "image/png": "[encoded data removed]",
      "text/plain": [
       "<Figure size 640x480 with 2 Axes>"
      ]
     },
     "metadata": {},
     "output_type": "display_data"
    }
   ],
   "source": [
    "sns.heatmap(df.corr())"
   ]
  },
  {
   "cell_type": "markdown",
   "id": "a1a00ef7",
   "metadata": {},
   "source": [
    "- There is a moderate positive correlation between the size of the television and its selling price. As the size increases, the selling price tends to increase.\n",
    "- There is a strong positive correlation between the size of the television and its original price. Larger televisions tend to have higher original prices.\n",
    "- There is a very strong positive correlation between the selling price and the original price. \n",
    "- There is a weak positive correlation between the size of the television and its rating. Larger televisions may have slightly higher ratings, but the correlation is not very strong.\n",
    "- There is a weak positive correlation between the selling price and the rating.\n",
    "- There is a weak positive correlation between the original price and the rating.\n",
    "- There is a very weak positive correlation between the size of the television and the discount percentage.\n",
    "- There is a moderate negative correlation between the selling price and the discount percentage. As the selling price increases, the discount percentage tends to decrease.\n",
    "- There is a very weak positive correlation between the original price and the discount percentage. \n",
    "- There is a very weak negative correlation between the rating and the discount percentage. "
   ]
  },
  {
   "cell_type": "code",
   "execution_count": null,
   "id": "a8e8d5c2",
   "metadata": {},
   "outputs": [],
   "source": []
  },
  {
   "cell_type": "code",
   "execution_count": null,
   "id": "1422a5ab",
   "metadata": {},
   "outputs": [],
   "source": []
  },
  {
   "cell_type": "code",
   "execution_count": null,
   "id": "a5b33aef",
   "metadata": {},
   "outputs": [],
   "source": []
  },
  {
   "cell_type": "markdown",
   "id": "0d58b309",
   "metadata": {},
   "source": [
    "# CONCLUSIONS:\n",
    "\n",
    "from descriptive analysis:\n",
    "- now there is no missing values\n",
    "- there are `59` unique brands and `SAMSUNG` with most frequent brand(140 times) \n",
    "- there are `5` unique display resolutions and `Ultra HD LED`(399) is the most common \n",
    "- The sizes range from a minimum of 17 inches to a maximum of 85 inches, with an average size of approximately 45.94 inches.\n",
    "- Selling prices vary widely, with a minimum of 4,849 and a maximum of 499,990.The mean selling price is 59,358.61.\n",
    "- Original prices also exhibit a considerable range, from 6,999 to 549,990.\n",
    "- There are 7 unique operating systems, with `Android`(485 times) being the most common .\n",
    "- Ratings range from a minimum of 2 to a maximum of 5, with an average rating of 4.23.\n",
    "\n",
    "from univariable analysis:\n",
    "- There is a high demand for televisions with `Ultra HD` resolution, indicating a preference for higher picture quality.\n",
    "- `SAMSUNG` and `LG` emerge as the leading brands, possibly indicating a high level of consumer trust and market influence.\n",
    "- Sharp has the highest average selling price.Samsung, SAMSUNG, and LG are also among the brands with higher average selling prices, suggesting that these brands might have premium or high-end television models.\n",
    "- Android is the most prevalent operating system, appearing 485 times in the dataset. This indicates a significant market share and popularity among the analyzed televisions.\n",
    "\n",
    "from coorelation analysis:\n",
    "- There is a moderate positive correlation between the size of the television and its selling price. As the size increases, the selling price tends to increase.\n",
    "- There is a strong positive correlation between the size of the television and its original price. Larger televisions tend to have higher original prices.\n",
    "- There is a very strong positive correlation between the selling price and the original price. \n",
    "- There is a weak positive correlation between the size of the television and its rating. Larger televisions may have slightly higher ratings, but the correlation is not very strong.\n",
    "- There is a weak positive correlation between the selling price and the rating.\n",
    "- There is a weak positive correlation between the original price and the rating.\n",
    "- There is a very weak positive correlation between the size of the television and the discount percentage.\n",
    "- There is a moderate negative correlation between the selling price and the discount percentage. As the selling price increases, the discount percentage tends to decrease.\n",
    "- There is a very weak positive correlation between the original price and the discount percentage. \n",
    "- There is a very weak negative correlation between the rating and the discount percentage. "
   ]
  },
  {
   "cell_type": "code",
   "execution_count": null,
   "id": "992f7ff9",
   "metadata": {},
   "outputs": [],
   "source": []
  }
 ],
 "metadata": {
  "kernelspec": {
   "display_name": "Python 3 (ipykernel)",
   "language": "python",
   "name": "python3"
  },
  "language_info": {
   "codemirror_mode": {
    "name": "ipython",
    "version": 3
   },
   "file_extension": ".py",
   "mimetype": "text/x-python",
   "name": "python",
   "nbconvert_exporter": "python",
   "pygments_lexer": "ipython3",
   "version": "3.10.9"
  }
 },
 "nbformat": 4,
 "nbformat_minor": 5
}
